{
 "cells": [
  {
   "cell_type": "markdown",
   "metadata": {},
   "source": [
    "# Training Practice Titanic Data"
   ]
  },
  {
   "cell_type": "code",
   "execution_count": 3,
   "metadata": {},
   "outputs": [],
   "source": [
    "import pandas as pd"
   ]
  },
  {
   "cell_type": "code",
   "execution_count": 4,
   "metadata": {},
   "outputs": [],
   "source": [
    "df = pd.read_csv('/Users/lilymartin/DEVOPS/testing_python_docker/app/data/train.csv')"
   ]
  },
  {
   "cell_type": "code",
   "execution_count": 77,
   "metadata": {},
   "outputs": [],
   "source": [
    "def remove_columns(df, columns = ['Cabin', 'Name', 'Ticket']):\n",
    "    \"\"\"\n",
    "    remove unwanted columns\n",
    "    \"\"\"\n",
    "    cols = [x for x in list(df.columns) if x not in columns]\n",
    "    return df[cols]"
   ]
  },
  {
   "cell_type": "code",
   "execution_count": 78,
   "metadata": {},
   "outputs": [],
   "source": [
    "def check_for_nan(df):\n",
    "    \"\"\"\n",
    "    Checking df for any rows with NaN\n",
    "    \"\"\"\n",
    "    return df.dropna()"
   ]
  },
  {
   "cell_type": "code",
   "execution_count": 79,
   "metadata": {},
   "outputs": [],
   "source": [
    "def age_buckets(df):\n",
    "    \"\"\"\n",
    "    Sort age column into age buckets\n",
    "    \"\"\"\n",
    "    age_col = 'Age'\n",
    "    df.loc[df[age_col] <= 17, 'AgeBuckets'] = '0_17'\n",
    "    df.loc[(df[age_col] > 17) & (df[age_col] <= 24), 'AgeBuckets'] = '18_24'\n",
    "    df.loc[(df[age_col] >= 25) & (df[age_col] <= 34), 'AgeBuckets'] = '25_34'\n",
    "    df.loc[(df[age_col] >= 35) & (df[age_col] <= 44), 'AgeBuckets'] = '35_44'\n",
    "    df.loc[(df[age_col] >= 45) & (df[age_col] <= 54), 'AgeBuckets'] = '45_54'\n",
    "    df.loc[(df[age_col] >= 55) & (df[age_col] <= 64), 'AgeBuckets'] = '55_64'\n",
    "    df.loc[(df[age_col] >= 65) & (df[age_col] <= 74), 'AgeBuckets'] = '65_74'\n",
    "    df.loc[(df[age_col] >= 75), 'AgeBuckets'] = '75_plus'\n",
    "    return df "
   ]
  },
  {
   "cell_type": "code",
   "execution_count": 80,
   "metadata": {},
   "outputs": [],
   "source": [
    "def fare_buckets(df):\n",
    "    \"\"\"\n",
    "    Sort fares into buckets\n",
    "    \"\"\"\n",
    "    fare_col = 'Fare'\n",
    "    df.loc[df[fare_col] <= 9, 'FareBucket'] = '0_9'\n",
    "    df.loc[(df[fare_col] > 10) & (df[fare_col] <= 16), 'FareBucket'] = '10_16'\n",
    "    df.loc[(df[fare_col] >= 17) & (df[fare_col] <= 33), 'FareBucket'] = '17_33'\n",
    "    df.loc[(df[fare_col] >= 34), 'FareBucket'] = '34_plus'\n",
    "    return df "
   ]
  },
  {
   "cell_type": "code",
   "execution_count": 81,
   "metadata": {},
   "outputs": [],
   "source": [
    "def hot_encoding(df):\n",
    "    \"\"\"\n",
    "    Hot encoding spefic columns \n",
    "    \"\"\"\n",
    "    cols = [x for x in list(df.columns) if x in ['Sex', 'Embarked', 'AgeBuckets', 'FareBucket']]\n",
    "    \n",
    "    for x in cols: \n",
    "        dummies = pd.get_dummies(df[x], x)\n",
    "        df = pd.concat([df.drop(x, axis=1), dummies], axis=1)\n",
    "    return df"
   ]
  },
  {
   "cell_type": "code",
   "execution_count": 84,
   "metadata": {},
   "outputs": [],
   "source": [
    "# Cleaning \n",
    "df = pd.read_csv('/Users/lilymartin/DEVOPS/testing_python_docker/app/data/train.csv')\n",
    "df = remove_columns(df, ['Cabin', 'Name', 'Ticket'])\n",
    "df = check_for_nan(df)\n",
    "df = age_buckets(df)\n",
    "df = hot_encoding(df)\n",
    "df = remove_columns(df, ['Age', 'Fare', 'PassengerId'])"
   ]
  },
  {
   "cell_type": "markdown",
   "metadata": {},
   "source": [
    "### Training"
   ]
  },
  {
   "cell_type": "code",
   "execution_count": null,
   "metadata": {},
   "outputs": [],
   "source": []
  }
 ],
 "metadata": {
  "kernelspec": {
   "display_name": "Python 3",
   "language": "python",
   "name": "python3"
  },
  "language_info": {
   "codemirror_mode": {
    "name": "ipython",
    "version": 3
   },
   "file_extension": ".py",
   "mimetype": "text/x-python",
   "name": "python",
   "nbconvert_exporter": "python",
   "pygments_lexer": "ipython3",
   "version": "3.7.6"
  }
 },
 "nbformat": 4,
 "nbformat_minor": 4
}
